{
 "cells": [
  {
   "cell_type": "code",
   "execution_count": 2,
   "metadata": {},
   "outputs": [],
   "source": [
    "import math\n",
    "import numpy as np\n",
    "import matplotlib.pyplot as plt\n",
    "%matplotlib inline"
   ]
  },
  {
   "cell_type": "code",
   "execution_count": 3,
   "metadata": {},
   "outputs": [],
   "source": [
    "def f(x):\n",
    "    return 3*x**2 - 4*x + 5"
   ]
  },
  {
   "cell_type": "code",
   "execution_count": 4,
   "metadata": {},
   "outputs": [
    {
     "data": {
      "text/plain": [
       "20.0"
      ]
     },
     "execution_count": 4,
     "metadata": {},
     "output_type": "execute_result"
    }
   ],
   "source": [
    "f(3.0)"
   ]
  },
  {
   "cell_type": "code",
   "execution_count": 5,
   "metadata": {},
   "outputs": [
    {
     "data": {
      "text/plain": [
       "[<matplotlib.lines.Line2D at 0x172d7d1e710>]"
      ]
     },
     "execution_count": 5,
     "metadata": {},
     "output_type": "execute_result"
    },
    {
     "data": {
      "image/png": "[encoded data removed]",
      "text/plain": [
       "<Figure size 640x480 with 1 Axes>"
      ]
     },
     "metadata": {},
     "output_type": "display_data"
    }
   ],
   "source": [
    "xs = np.arange(-5, 5, 0.25)\n",
    "ys = f(xs)\n",
    "plt.plot(xs, ys)"
   ]
  },
  {
   "cell_type": "code",
   "execution_count": 6,
   "metadata": {},
   "outputs": [
    {
     "data": {
      "text/plain": [
       "2.9753977059954195e-07"
      ]
     },
     "execution_count": 6,
     "metadata": {},
     "output_type": "execute_result"
    }
   ],
   "source": [
    "h = 0.0000001\n",
    "x = 2/3\n",
    "(f(x+h) - f(x))/h"
   ]
  },
  {
   "cell_type": "code",
   "execution_count": 7,
   "metadata": {},
   "outputs": [
    {
     "name": "stdout",
     "output_type": "stream",
     "text": [
      "10.0\n"
     ]
    }
   ],
   "source": [
    "a = 2.0\n",
    "b = -3.0\n",
    "c = 10.0\n",
    "c\n",
    "print(c)"
   ]
  },
  {
   "cell_type": "code",
   "execution_count": 8,
   "metadata": {},
   "outputs": [
    {
     "name": "stdout",
     "output_type": "stream",
     "text": [
      "d1 4.0\n",
      "d2 4.0001\n",
      "slope 0.9999999999976694\n"
     ]
    }
   ],
   "source": [
    "h = 0.0001\n",
    "\n",
    "a = 2.0\n",
    "b = -3.0\n",
    "c = 10.0\n",
    "\n",
    "d1 = a*b + c\n",
    "c += h\n",
    "d2 = a*b + c\n",
    "\n",
    "print('d1', d1)\n",
    "print('d2', d2)\n",
    "print('slope', (d2-d1)/h)\n"
   ]
  },
  {
   "cell_type": "code",
   "execution_count": 78,
   "metadata": {},
   "outputs": [],
   "source": [
    "class Value:\n",
    "    def __init__(self, data, _children=(), _op = '', label=''):\n",
    "        self.data = data\n",
    "        self._prev = set(_children)\n",
    "        self._op = _op\n",
    "        self.label = label\n",
    "        self.grad = 0.0\n",
    "        self._backward = lambda : None\n",
    "    \n",
    "    def __repr__(self):\n",
    "        return f\"Value(data = {self.data})\"\n",
    "    \n",
    "    def __add__(self, other):\n",
    "        out = Value(self.data + other.data, (self, other), '+')\n",
    "\n",
    "        # gradient on addition is just 1\n",
    "        # the += mark for multivariable case, we accumulate the gradient for each node\n",
    "        def _backward():\n",
    "            self.grad += 1.0 * out.grad\n",
    "            other.grad += 1.0 * out.grad\n",
    "        out._backward = _backward\n",
    "\n",
    "        return out\n",
    "    \n",
    "    def __mul__(self, other):\n",
    "        out = Value(self.data * other.data, (self, other), '*')\n",
    "        \n",
    "        # derivative total is just local derivative * global derivative\n",
    "        # the += mark for multivariable case, we accumulate the gradient for each node\n",
    "        def _backward():\n",
    "            self.grad += other.data * out.grad\n",
    "            other.grad += self.data * out.grad\n",
    "        out._backward = _backward\n",
    "\n",
    "        return out\n",
    "    \n",
    "    def tanh(self):\n",
    "        x = self.data\n",
    "        t = (math.exp(2*x)-1) / (math.exp(2*x) +1)\n",
    "        out = Value(t, (self,), 'tanh')\n",
    "\n",
    "        def _backward():\n",
    "            self.grad += (1 - t**2) * out.grad\n",
    "        \n",
    "        out._backward = _backward\n",
    "\n",
    "        return out\n",
    "    \n",
    "    def backward(self):\n",
    "        topo = []\n",
    "        visited = set()\n",
    "\n",
    "        # topological sorting : kindda like DFS sorting -> go to the bottom of the leaf, then change brance\n",
    "        # its used so we can automaticly search for the backward propagation\n",
    "        def build_topo(v):\n",
    "            if v not in visited: \n",
    "                visited.add(v)\n",
    "                for child in v._prev: \n",
    "                    build_topo(child)\n",
    "                topo.append(v)\n",
    "\n",
    "        build_topo(self)\n",
    "\n",
    "        self.grad = 1.0\n",
    "        for node in reversed(topo):\n",
    "            node._backward()\n",
    "\n",
    "a = Value(2.0, label='a')\n",
    "b = Value(-3.0, label='b')\n",
    "c = Value(10.0, label='c')\n"
   ]
  },
  {
   "cell_type": "code",
   "execution_count": 11,
   "metadata": {},
   "outputs": [],
   "source": [
    "from graphviz import Digraph\n",
    "\n",
    "# tracing all the nodes and edges from the calculation\n",
    "def trace(root):\n",
    "    nodes, edges = set(), set()\n",
    "    def build(v):\n",
    "        if v not in nodes:\n",
    "            nodes.add(v)\n",
    "            for child in v._prev:\n",
    "                edges.add((child, v))\n",
    "                build(child)\n",
    "    build(root)\n",
    "    return nodes, edges\n",
    "\n",
    "def draw_dot(root):\n",
    "    dot = Digraph(format=\"svg\", graph_attr={\"rankdir\": \"LR\"}) # Lr = left to right\n",
    "    nodes, edges = trace(root)\n",
    "\n",
    "    for n in nodes:\n",
    "        uid = str(id(n))\n",
    "        # creating the rectangular node\n",
    "        dot.node(name=uid, label= \"{%s | data %.4f | grad %.4f}\" % (n.label, n.data, n.grad), shape=\"record\")\n",
    "        if n._op:\n",
    "            # creating the circle operation node\n",
    "            dot.node(name=uid + n._op, label= n._op)\n",
    "            dot.edge(uid+n._op, uid)\n",
    "    # creatiing edges\n",
    "    for n1, n2 in edges:\n",
    "        dot.edge(str(id(n1)), str(id(n2)) + n2._op)\n",
    "\n",
    "    return dot\n"
   ]
  },
  {
   "cell_type": "code",
   "execution_count": 22,
   "metadata": {},
   "outputs": [
    {
     "data": {
      "image/svg+xml": [
       "<?xml version=\"1.0\" encoding=\"UTF-8\" standalone=\"no\"?>\n",
       "<!DOCTYPE svg PUBLIC \"-//W3C//DTD SVG 1.1//EN\"\n",
       " \"http://www.w3.org/Graphics/SVG/1.1/DTD/svg11.dtd\">\n",
       "<!-- Generated by graphviz version 9.0.0 (20230911.1827)\n",
       " -->\n",
       "<!-- Pages: 1 -->\n",
       "<svg width=\"1155pt\" height=\"156pt\"\n",
       " viewBox=\"0.00 0.00 1154.75 156.00\" xmlns=\"http://www.w3.org/2000/svg\" xmlns:xlink=\"http://www.w3.org/1999/xlink\">\n",
       "<g id=\"graph0\" class=\"graph\" transform=\"scale(1 1) rotate(0) translate(4 152)\">\n",
       "<polygon fill=\"white\" stroke=\"none\" points=\"-4,4 -4,-152 1150.75,-152 1150.75,4 -4,4\"/>\n",
       "<!-- 1592837092496 -->\n",
       "<g id=\"node1\" class=\"node\">\n",
       "<title>1592837092496</title>\n",
       "<polygon fill=\"none\" stroke=\"black\" points=\"0,-111.5 0,-147.5 186,-147.5 186,-111.5 0,-111.5\"/>\n",
       "<text text-anchor=\"middle\" x=\"11.75\" y=\"-124.2\" font-family=\"Times New Roman,serif\" font-size=\"14.00\">b</text>\n",
       "<polyline fill=\"none\" stroke=\"black\" points=\"23.5,-111.75 23.5,-147.5\"/>\n",
       "<text text-anchor=\"middle\" x=\"63.75\" y=\"-124.2\" font-family=\"Times New Roman,serif\" font-size=\"14.00\">data 6.8814</text>\n",
       "<polyline fill=\"none\" stroke=\"black\" points=\"104,-111.75 104,-147.5\"/>\n",
       "<text text-anchor=\"middle\" x=\"145\" y=\"-124.2\" font-family=\"Times New Roman,serif\" font-size=\"14.00\">grad 0.0000</text>\n",
       "</g>\n",
       "<!-- 1592831556816* -->\n",
       "<g id=\"node3\" class=\"node\">\n",
       "<title>1592831556816*</title>\n",
       "<ellipse fill=\"none\" stroke=\"black\" cx=\"249\" cy=\"-101.5\" rx=\"27\" ry=\"18\"/>\n",
       "<text text-anchor=\"middle\" x=\"249\" y=\"-96.08\" font-family=\"Times New Roman,serif\" font-size=\"14.00\">*</text>\n",
       "</g>\n",
       "<!-- 1592837092496&#45;&gt;1592831556816* -->\n",
       "<g id=\"edge8\" class=\"edge\">\n",
       "<title>1592837092496&#45;&gt;1592831556816*</title>\n",
       "<path fill=\"none\" stroke=\"black\" d=\"M186.25,-112.73C195.1,-111.12 203.67,-109.56 211.46,-108.14\"/>\n",
       "<polygon fill=\"black\" stroke=\"black\" points=\"211.93,-111.62 221.15,-106.38 210.68,-104.73 211.93,-111.62\"/>\n",
       "</g>\n",
       "<!-- 1592831556816 -->\n",
       "<g id=\"node2\" class=\"node\">\n",
       "<title>1592831556816</title>\n",
       "<polygon fill=\"none\" stroke=\"black\" points=\"312.38,-83.5 312.38,-119.5 503.62,-119.5 503.62,-83.5 312.38,-83.5\"/>\n",
       "<text text-anchor=\"middle\" x=\"323.38\" y=\"-96.2\" font-family=\"Times New Roman,serif\" font-size=\"14.00\">e</text>\n",
       "<polyline fill=\"none\" stroke=\"black\" points=\"334.38,-83.75 334.38,-119.5\"/>\n",
       "<text text-anchor=\"middle\" x=\"378\" y=\"-96.2\" font-family=\"Times New Roman,serif\" font-size=\"14.00\">data 13.7627</text>\n",
       "<polyline fill=\"none\" stroke=\"black\" points=\"421.62,-83.75 421.62,-119.5\"/>\n",
       "<text text-anchor=\"middle\" x=\"462.62\" y=\"-96.2\" font-family=\"Times New Roman,serif\" font-size=\"14.00\">grad 0.0000</text>\n",
       "</g>\n",
       "<!-- 1592835549520+ -->\n",
       "<g id=\"node9\" class=\"node\">\n",
       "<title>1592835549520+</title>\n",
       "<ellipse fill=\"none\" stroke=\"black\" cx=\"567\" cy=\"-73.5\" rx=\"27\" ry=\"18\"/>\n",
       "<text text-anchor=\"middle\" x=\"567\" y=\"-68.08\" font-family=\"Times New Roman,serif\" font-size=\"14.00\">+</text>\n",
       "</g>\n",
       "<!-- 1592831556816&#45;&gt;1592835549520+ -->\n",
       "<g id=\"edge5\" class=\"edge\">\n",
       "<title>1592831556816&#45;&gt;1592835549520+</title>\n",
       "<path fill=\"none\" stroke=\"black\" d=\"M503.95,-84.57C512.87,-82.98 521.49,-81.44 529.33,-80.04\"/>\n",
       "<polygon fill=\"black\" stroke=\"black\" points=\"529.84,-83.5 539.07,-78.3 528.61,-76.61 529.84,-83.5\"/>\n",
       "</g>\n",
       "<!-- 1592831556816*&#45;&gt;1592831556816 -->\n",
       "<g id=\"edge1\" class=\"edge\">\n",
       "<title>1592831556816*&#45;&gt;1592831556816</title>\n",
       "<path fill=\"none\" stroke=\"black\" d=\"M276.28,-101.5C283.52,-101.5 291.85,-101.5 300.72,-101.5\"/>\n",
       "<polygon fill=\"black\" stroke=\"black\" points=\"300.69,-105 310.69,-101.5 300.69,-98 300.69,-105\"/>\n",
       "</g>\n",
       "<!-- 1592760199888 -->\n",
       "<g id=\"node4\" class=\"node\">\n",
       "<title>1592760199888</title>\n",
       "<polygon fill=\"none\" stroke=\"black\" points=\"0.75,-56.5 0.75,-92.5 185.25,-92.5 185.25,-56.5 0.75,-56.5\"/>\n",
       "<text text-anchor=\"middle\" x=\"11.75\" y=\"-69.2\" font-family=\"Times New Roman,serif\" font-size=\"14.00\">a</text>\n",
       "<polyline fill=\"none\" stroke=\"black\" points=\"22.75,-56.75 22.75,-92.5\"/>\n",
       "<text text-anchor=\"middle\" x=\"63\" y=\"-69.2\" font-family=\"Times New Roman,serif\" font-size=\"14.00\">data 2.0000</text>\n",
       "<polyline fill=\"none\" stroke=\"black\" points=\"103.25,-56.75 103.25,-92.5\"/>\n",
       "<text text-anchor=\"middle\" x=\"144.25\" y=\"-69.2\" font-family=\"Times New Roman,serif\" font-size=\"14.00\">grad 0.0000</text>\n",
       "</g>\n",
       "<!-- 1592760199888&#45;&gt;1592831556816* -->\n",
       "<g id=\"edge4\" class=\"edge\">\n",
       "<title>1592760199888&#45;&gt;1592831556816*</title>\n",
       "<path fill=\"none\" stroke=\"black\" d=\"M185.36,-90.52C194.5,-92.12 203.36,-93.67 211.4,-95.08\"/>\n",
       "<polygon fill=\"black\" stroke=\"black\" points=\"210.58,-98.49 221.04,-96.77 211.79,-91.6 210.58,-98.49\"/>\n",
       "</g>\n",
       "<!-- 1592836962576 -->\n",
       "<g id=\"node5\" class=\"node\">\n",
       "<title>1592836962576</title>\n",
       "<polygon fill=\"none\" stroke=\"black\" points=\"632.62,-0.5 632.62,-36.5 820.12,-36.5 820.12,-0.5 632.62,-0.5\"/>\n",
       "<text text-anchor=\"middle\" x=\"642.88\" y=\"-13.2\" font-family=\"Times New Roman,serif\" font-size=\"14.00\">f</text>\n",
       "<polyline fill=\"none\" stroke=\"black\" points=\"653.12,-0.75 653.12,-36.5\"/>\n",
       "<text text-anchor=\"middle\" x=\"695.62\" y=\"-13.2\" font-family=\"Times New Roman,serif\" font-size=\"14.00\">data &#45;2.0000</text>\n",
       "<polyline fill=\"none\" stroke=\"black\" points=\"738.12,-0.75 738.12,-36.5\"/>\n",
       "<text text-anchor=\"middle\" x=\"779.12\" y=\"-13.2\" font-family=\"Times New Roman,serif\" font-size=\"14.00\">grad 0.0000</text>\n",
       "</g>\n",
       "<!-- 1592835592528* -->\n",
       "<g id=\"node7\" class=\"node\">\n",
       "<title>1592835592528*</title>\n",
       "<ellipse fill=\"none\" stroke=\"black\" cx=\"885.75\" cy=\"-45.5\" rx=\"27\" ry=\"18\"/>\n",
       "<text text-anchor=\"middle\" x=\"885.75\" y=\"-40.08\" font-family=\"Times New Roman,serif\" font-size=\"14.00\">*</text>\n",
       "</g>\n",
       "<!-- 1592836962576&#45;&gt;1592835592528* -->\n",
       "<g id=\"edge7\" class=\"edge\">\n",
       "<title>1592836962576&#45;&gt;1592835592528*</title>\n",
       "<path fill=\"none\" stroke=\"black\" d=\"M820.29,-34.44C829.97,-36.1 839.35,-37.71 847.82,-39.16\"/>\n",
       "<polygon fill=\"black\" stroke=\"black\" points=\"847.19,-42.61 857.64,-40.85 848.37,-35.71 847.19,-42.61\"/>\n",
       "</g>\n",
       "<!-- 1592835592528 -->\n",
       "<g id=\"node6\" class=\"node\">\n",
       "<title>1592835592528</title>\n",
       "<polygon fill=\"none\" stroke=\"black\" points=\"948.75,-27.5 948.75,-63.5 1146.75,-63.5 1146.75,-27.5 948.75,-27.5\"/>\n",
       "<text text-anchor=\"middle\" x=\"960.88\" y=\"-40.2\" font-family=\"Times New Roman,serif\" font-size=\"14.00\">L</text>\n",
       "<polyline fill=\"none\" stroke=\"black\" points=\"973,-27.75 973,-63.5\"/>\n",
       "<text text-anchor=\"middle\" x=\"1018.88\" y=\"-40.2\" font-family=\"Times New Roman,serif\" font-size=\"14.00\">data &#45;47.5255</text>\n",
       "<polyline fill=\"none\" stroke=\"black\" points=\"1064.75,-27.75 1064.75,-63.5\"/>\n",
       "<text text-anchor=\"middle\" x=\"1105.75\" y=\"-40.2\" font-family=\"Times New Roman,serif\" font-size=\"14.00\">grad 0.0000</text>\n",
       "</g>\n",
       "<!-- 1592835592528*&#45;&gt;1592835592528 -->\n",
       "<g id=\"edge2\" class=\"edge\">\n",
       "<title>1592835592528*&#45;&gt;1592835592528</title>\n",
       "<path fill=\"none\" stroke=\"black\" d=\"M913.17,-45.5C920.29,-45.5 928.45,-45.5 937.15,-45.5\"/>\n",
       "<polygon fill=\"black\" stroke=\"black\" points=\"936.92,-49 946.92,-45.5 936.92,-42 936.92,-49\"/>\n",
       "</g>\n",
       "<!-- 1592835549520 -->\n",
       "<g id=\"node8\" class=\"node\">\n",
       "<title>1592835549520</title>\n",
       "<polygon fill=\"none\" stroke=\"black\" points=\"630,-55.5 630,-91.5 822.75,-91.5 822.75,-55.5 630,-55.5\"/>\n",
       "<text text-anchor=\"middle\" x=\"641.75\" y=\"-68.2\" font-family=\"Times New Roman,serif\" font-size=\"14.00\">d</text>\n",
       "<polyline fill=\"none\" stroke=\"black\" points=\"653.5,-55.75 653.5,-91.5\"/>\n",
       "<text text-anchor=\"middle\" x=\"697.12\" y=\"-68.2\" font-family=\"Times New Roman,serif\" font-size=\"14.00\">data 23.7627</text>\n",
       "<polyline fill=\"none\" stroke=\"black\" points=\"740.75,-55.75 740.75,-91.5\"/>\n",
       "<text text-anchor=\"middle\" x=\"781.75\" y=\"-68.2\" font-family=\"Times New Roman,serif\" font-size=\"14.00\">grad 0.0000</text>\n",
       "</g>\n",
       "<!-- 1592835549520&#45;&gt;1592835592528* -->\n",
       "<g id=\"edge9\" class=\"edge\">\n",
       "<title>1592835549520&#45;&gt;1592835592528*</title>\n",
       "<path fill=\"none\" stroke=\"black\" d=\"M823,-56.49C831.81,-54.92 840.32,-53.41 848.06,-52.03\"/>\n",
       "<polygon fill=\"black\" stroke=\"black\" points=\"848.43,-55.52 857.66,-50.32 847.21,-48.62 848.43,-55.52\"/>\n",
       "</g>\n",
       "<!-- 1592835549520+&#45;&gt;1592835549520 -->\n",
       "<g id=\"edge3\" class=\"edge\">\n",
       "<title>1592835549520+&#45;&gt;1592835549520</title>\n",
       "<path fill=\"none\" stroke=\"black\" d=\"M594.34,-73.5C601.48,-73.5 609.67,-73.5 618.39,-73.5\"/>\n",
       "<polygon fill=\"black\" stroke=\"black\" points=\"618.17,-77 628.17,-73.5 618.17,-70 618.17,-77\"/>\n",
       "</g>\n",
       "<!-- 1592498444688 -->\n",
       "<g id=\"node10\" class=\"node\">\n",
       "<title>1592498444688</title>\n",
       "<polygon fill=\"none\" stroke=\"black\" points=\"312,-28.5 312,-64.5 504,-64.5 504,-28.5 312,-28.5\"/>\n",
       "<text text-anchor=\"middle\" x=\"323.38\" y=\"-41.2\" font-family=\"Times New Roman,serif\" font-size=\"14.00\">c</text>\n",
       "<polyline fill=\"none\" stroke=\"black\" points=\"334.75,-28.75 334.75,-64.5\"/>\n",
       "<text text-anchor=\"middle\" x=\"378.38\" y=\"-41.2\" font-family=\"Times New Roman,serif\" font-size=\"14.00\">data 10.0000</text>\n",
       "<polyline fill=\"none\" stroke=\"black\" points=\"422,-28.75 422,-64.5\"/>\n",
       "<text text-anchor=\"middle\" x=\"463\" y=\"-41.2\" font-family=\"Times New Roman,serif\" font-size=\"14.00\">grad 0.0000</text>\n",
       "</g>\n",
       "<!-- 1592498444688&#45;&gt;1592835549520+ -->\n",
       "<g id=\"edge6\" class=\"edge\">\n",
       "<title>1592498444688&#45;&gt;1592835549520+</title>\n",
       "<path fill=\"none\" stroke=\"black\" d=\"M504.4,-62.91C513.08,-64.4 521.47,-65.84 529.12,-67.16\"/>\n",
       "<polygon fill=\"black\" stroke=\"black\" points=\"528.53,-70.61 538.97,-68.85 529.71,-63.71 528.53,-70.61\"/>\n",
       "</g>\n",
       "</g>\n",
       "</svg>\n"
      ],
      "text/plain": [
       "<graphviz.graphs.Digraph at 0x172dc641d10>"
      ]
     },
     "execution_count": 22,
     "metadata": {},
     "output_type": "execute_result"
    }
   ],
   "source": [
    "e = a*b; e.label = 'e'\n",
    "d = e + c; d.label = 'd'\n",
    "f = Value(-2.0, label='f')\n",
    "L = d * f; L.label = 'L'\n",
    "draw_dot(L)"
   ]
  },
  {
   "cell_type": "code",
   "execution_count": 14,
   "metadata": {},
   "outputs": [
    {
     "name": "stdout",
     "output_type": "stream",
     "text": [
      "6.000000000000227\n"
     ]
    }
   ],
   "source": [
    "def derivative_example():\n",
    "    h = 0.001\n",
    "\n",
    "    a = Value(2.0, label='a')\n",
    "    b = Value(-3.0, label='b')\n",
    "    c = Value(10.0, label='c')\n",
    "    e = a*b; e.label = 'e'\n",
    "    d = e + c; d.label = 'd'\n",
    "    f = Value(-2.0, label='f')\n",
    "    L = d * f; L.label = 'L'\n",
    "    L1 = L.data\n",
    "\n",
    "    a = Value(2.0 + h, label='a')\n",
    "    b = Value(-3.0, label='b')\n",
    "    c = Value(10.0, label='c')\n",
    "    e = a*b; e.label = 'e'\n",
    "    d = e + c; d.label = 'd'\n",
    "    f = Value(-2.0, label='f')\n",
    "    L = d * f; L.label = 'L'\n",
    "    L2 = L.data\n",
    "\n",
    "    print((L2 - L1)/h)\n",
    "\n",
    "derivative_example()"
   ]
  },
  {
   "cell_type": "code",
   "execution_count": 18,
   "metadata": {},
   "outputs": [
    {
     "data": {
      "image/png": "[encoded data removed]",
      "text/plain": [
       "<Figure size 640x480 with 1 Axes>"
      ]
     },
     "metadata": {},
     "output_type": "display_data"
    }
   ],
   "source": [
    "plt.plot(np.arange(-10,5,0.2), np.tanh(np.arange(-10,5,0.2))); plt.grid();"
   ]
  },
  {
   "cell_type": "code",
   "execution_count": 74,
   "metadata": {},
   "outputs": [],
   "source": [
    "# inputs x1,x2\n",
    "x1 = Value(2.0, label='x1')\n",
    "x2 = Value(0.0, label='x2')\n",
    "# weights w1,w2\n",
    "w1 = Value(-3.0, label='w1')\n",
    "w2 = Value(1.0, label='w2')\n",
    "# bias of the neuron\n",
    "b = Value(6.8813735870195432, label='b')\n",
    "# x1*w1 + x2*w2 + b\n",
    "x1w1 = x1*w1; x1w1.label = 'x1*w1'\n",
    "x2w2 = x2*w2; x2w2.label = 'x2*w2'\n",
    "x1w1x2w2 = x1w1 + x2w2; x1w1x2w2.label = 'x1*w1 + x2*w2'\n",
    "n = x1w1x2w2 + b; n.label = 'n'\n",
    "o = n.tanh(); o.label = 'o'"
   ]
  },
  {
   "cell_type": "code",
   "execution_count": 77,
   "metadata": {},
   "outputs": [
    {
     "data": {
      "image/svg+xml": [
       "<?xml version=\"1.0\" encoding=\"UTF-8\" standalone=\"no\"?>\n",
       "<!DOCTYPE svg PUBLIC \"-//W3C//DTD SVG 1.1//EN\"\n",
       " \"http://www.w3.org/Graphics/SVG/1.1/DTD/svg11.dtd\">\n",
       "<!-- Generated by graphviz version 9.0.0 (20230911.1827)\n",
       " -->\n",
       "<!-- Pages: 1 -->\n",
       "<svg width=\"1575pt\" height=\"210pt\"\n",
       " viewBox=\"0.00 0.00 1574.75 210.00\" xmlns=\"http://www.w3.org/2000/svg\" xmlns:xlink=\"http://www.w3.org/1999/xlink\">\n",
       "<g id=\"graph0\" class=\"graph\" transform=\"scale(1 1) rotate(0) translate(4 206)\">\n",
       "<polygon fill=\"white\" stroke=\"none\" points=\"-4,4 -4,-206 1570.75,-206 1570.75,4 -4,4\"/>\n",
       "<!-- 1592837073936 -->\n",
       "<g id=\"node1\" class=\"node\">\n",
       "<title>1592837073936</title>\n",
       "<polygon fill=\"none\" stroke=\"black\" points=\"327.75,-55.5 327.75,-91.5 543,-91.5 543,-55.5 327.75,-55.5\"/>\n",
       "<text text-anchor=\"middle\" x=\"354.12\" y=\"-68.2\" font-family=\"Times New Roman,serif\" font-size=\"14.00\">x2*w2</text>\n",
       "<polyline fill=\"none\" stroke=\"black\" points=\"380.5,-55.75 380.5,-91.5\"/>\n",
       "<text text-anchor=\"middle\" x=\"420.75\" y=\"-68.2\" font-family=\"Times New Roman,serif\" font-size=\"14.00\">data 0.0000</text>\n",
       "<polyline fill=\"none\" stroke=\"black\" points=\"461,-55.75 461,-91.5\"/>\n",
       "<text text-anchor=\"middle\" x=\"502\" y=\"-68.2\" font-family=\"Times New Roman,serif\" font-size=\"14.00\">grad 0.5000</text>\n",
       "</g>\n",
       "<!-- 1592837068496+ -->\n",
       "<g id=\"node10\" class=\"node\">\n",
       "<title>1592837068496+</title>\n",
       "<ellipse fill=\"none\" stroke=\"black\" cx=\"608.25\" cy=\"-100.5\" rx=\"27\" ry=\"18\"/>\n",
       "<text text-anchor=\"middle\" x=\"608.25\" y=\"-95.08\" font-family=\"Times New Roman,serif\" font-size=\"14.00\">+</text>\n",
       "</g>\n",
       "<!-- 1592837073936&#45;&gt;1592837068496+ -->\n",
       "<g id=\"edge12\" class=\"edge\">\n",
       "<title>1592837073936&#45;&gt;1592837068496+</title>\n",
       "<path fill=\"none\" stroke=\"black\" d=\"M543.14,-90.37C552.77,-91.89 562.01,-93.35 570.33,-94.67\"/>\n",
       "<polygon fill=\"black\" stroke=\"black\" points=\"569.51,-98.08 579.94,-96.18 570.61,-91.17 569.51,-98.08\"/>\n",
       "</g>\n",
       "<!-- 1592837073936* -->\n",
       "<g id=\"node2\" class=\"node\">\n",
       "<title>1592837073936*</title>\n",
       "<ellipse fill=\"none\" stroke=\"black\" cx=\"262.5\" cy=\"-73.5\" rx=\"27\" ry=\"18\"/>\n",
       "<text text-anchor=\"middle\" x=\"262.5\" y=\"-68.08\" font-family=\"Times New Roman,serif\" font-size=\"14.00\">*</text>\n",
       "</g>\n",
       "<!-- 1592837073936*&#45;&gt;1592837073936 -->\n",
       "<g id=\"edge1\" class=\"edge\">\n",
       "<title>1592837073936*&#45;&gt;1592837073936</title>\n",
       "<path fill=\"none\" stroke=\"black\" d=\"M289.82,-73.5C297.5,-73.5 306.41,-73.5 315.98,-73.5\"/>\n",
       "<polygon fill=\"black\" stroke=\"black\" points=\"315.97,-77 325.97,-73.5 315.97,-70 315.97,-77\"/>\n",
       "</g>\n",
       "<!-- 1592837070352 -->\n",
       "<g id=\"node3\" class=\"node\">\n",
       "<title>1592837070352</title>\n",
       "<polygon fill=\"none\" stroke=\"black\" points=\"0,-165.5 0,-201.5 199.5,-201.5 199.5,-165.5 0,-165.5\"/>\n",
       "<text text-anchor=\"middle\" x=\"16.25\" y=\"-178.2\" font-family=\"Times New Roman,serif\" font-size=\"14.00\">w1</text>\n",
       "<polyline fill=\"none\" stroke=\"black\" points=\"32.5,-165.75 32.5,-201.5\"/>\n",
       "<text text-anchor=\"middle\" x=\"75\" y=\"-178.2\" font-family=\"Times New Roman,serif\" font-size=\"14.00\">data &#45;3.0000</text>\n",
       "<polyline fill=\"none\" stroke=\"black\" points=\"117.5,-165.75 117.5,-201.5\"/>\n",
       "<text text-anchor=\"middle\" x=\"158.5\" y=\"-178.2\" font-family=\"Times New Roman,serif\" font-size=\"14.00\">grad 1.0000</text>\n",
       "</g>\n",
       "<!-- 1592837396944* -->\n",
       "<g id=\"node15\" class=\"node\">\n",
       "<title>1592837396944*</title>\n",
       "<ellipse fill=\"none\" stroke=\"black\" cx=\"262.5\" cy=\"-128.5\" rx=\"27\" ry=\"18\"/>\n",
       "<text text-anchor=\"middle\" x=\"262.5\" y=\"-123.08\" font-family=\"Times New Roman,serif\" font-size=\"14.00\">*</text>\n",
       "</g>\n",
       "<!-- 1592837070352&#45;&gt;1592837396944* -->\n",
       "<g id=\"edge6\" class=\"edge\">\n",
       "<title>1592837070352&#45;&gt;1592837396944*</title>\n",
       "<path fill=\"none\" stroke=\"black\" d=\"M173.43,-165.03C182.28,-162.37 191.14,-159.51 199.5,-156.5 209.59,-152.87 220.33,-148.29 229.98,-143.89\"/>\n",
       "<polygon fill=\"black\" stroke=\"black\" points=\"231.37,-147.1 238.95,-139.7 228.41,-140.76 231.37,-147.1\"/>\n",
       "</g>\n",
       "<!-- 1592837074000 -->\n",
       "<g id=\"node4\" class=\"node\">\n",
       "<title>1592837074000</title>\n",
       "<polygon fill=\"none\" stroke=\"black\" points=\"1069.5,-109.5 1069.5,-145.5 1254.75,-145.5 1254.75,-109.5 1069.5,-109.5\"/>\n",
       "<text text-anchor=\"middle\" x=\"1080.88\" y=\"-122.2\" font-family=\"Times New Roman,serif\" font-size=\"14.00\">n</text>\n",
       "<polyline fill=\"none\" stroke=\"black\" points=\"1092.25,-109.75 1092.25,-145.5\"/>\n",
       "<text text-anchor=\"middle\" x=\"1132.5\" y=\"-122.2\" font-family=\"Times New Roman,serif\" font-size=\"14.00\">data 0.8814</text>\n",
       "<polyline fill=\"none\" stroke=\"black\" points=\"1172.75,-109.75 1172.75,-145.5\"/>\n",
       "<text text-anchor=\"middle\" x=\"1213.75\" y=\"-122.2\" font-family=\"Times New Roman,serif\" font-size=\"14.00\">grad 0.5000</text>\n",
       "</g>\n",
       "<!-- 1592837077072tanh -->\n",
       "<g id=\"node7\" class=\"node\">\n",
       "<title>1592837077072tanh</title>\n",
       "<ellipse fill=\"none\" stroke=\"black\" cx=\"1317.75\" cy=\"-127.5\" rx=\"27\" ry=\"18\"/>\n",
       "<text text-anchor=\"middle\" x=\"1317.75\" y=\"-122.08\" font-family=\"Times New Roman,serif\" font-size=\"14.00\">tanh</text>\n",
       "</g>\n",
       "<!-- 1592837074000&#45;&gt;1592837077072tanh -->\n",
       "<g id=\"edge10\" class=\"edge\">\n",
       "<title>1592837074000&#45;&gt;1592837077072tanh</title>\n",
       "<path fill=\"none\" stroke=\"black\" d=\"M1255.15,-127.5C1263.52,-127.5 1271.64,-127.5 1279.09,-127.5\"/>\n",
       "<polygon fill=\"black\" stroke=\"black\" points=\"1279.03,-131 1289.03,-127.5 1279.03,-124 1279.03,-131\"/>\n",
       "</g>\n",
       "<!-- 1592837074000+ -->\n",
       "<g id=\"node5\" class=\"node\">\n",
       "<title>1592837074000+</title>\n",
       "<ellipse fill=\"none\" stroke=\"black\" cx=\"1006.5\" cy=\"-127.5\" rx=\"27\" ry=\"18\"/>\n",
       "<text text-anchor=\"middle\" x=\"1006.5\" y=\"-122.08\" font-family=\"Times New Roman,serif\" font-size=\"14.00\">+</text>\n",
       "</g>\n",
       "<!-- 1592837074000+&#45;&gt;1592837074000 -->\n",
       "<g id=\"edge2\" class=\"edge\">\n",
       "<title>1592837074000+&#45;&gt;1592837074000</title>\n",
       "<path fill=\"none\" stroke=\"black\" d=\"M1033.91,-127.5C1040.95,-127.5 1049,-127.5 1057.55,-127.5\"/>\n",
       "<polygon fill=\"black\" stroke=\"black\" points=\"1057.54,-131 1067.54,-127.5 1057.54,-124 1057.54,-131\"/>\n",
       "</g>\n",
       "<!-- 1592837077072 -->\n",
       "<g id=\"node6\" class=\"node\">\n",
       "<title>1592837077072</title>\n",
       "<polygon fill=\"none\" stroke=\"black\" points=\"1380.75,-109.5 1380.75,-145.5 1566.75,-145.5 1566.75,-109.5 1380.75,-109.5\"/>\n",
       "<text text-anchor=\"middle\" x=\"1392.5\" y=\"-122.2\" font-family=\"Times New Roman,serif\" font-size=\"14.00\">o</text>\n",
       "<polyline fill=\"none\" stroke=\"black\" points=\"1404.25,-109.75 1404.25,-145.5\"/>\n",
       "<text text-anchor=\"middle\" x=\"1444.5\" y=\"-122.2\" font-family=\"Times New Roman,serif\" font-size=\"14.00\">data 0.7071</text>\n",
       "<polyline fill=\"none\" stroke=\"black\" points=\"1484.75,-109.75 1484.75,-145.5\"/>\n",
       "<text text-anchor=\"middle\" x=\"1525.75\" y=\"-122.2\" font-family=\"Times New Roman,serif\" font-size=\"14.00\">grad 1.0000</text>\n",
       "</g>\n",
       "<!-- 1592837077072tanh&#45;&gt;1592837077072 -->\n",
       "<g id=\"edge3\" class=\"edge\">\n",
       "<title>1592837077072tanh&#45;&gt;1592837077072</title>\n",
       "<path fill=\"none\" stroke=\"black\" d=\"M1345.22,-127.5C1352.36,-127.5 1360.53,-127.5 1369.21,-127.5\"/>\n",
       "<polygon fill=\"black\" stroke=\"black\" points=\"1368.94,-131 1378.94,-127.5 1368.94,-124 1368.94,-131\"/>\n",
       "</g>\n",
       "<!-- 1592837073488 -->\n",
       "<g id=\"node8\" class=\"node\">\n",
       "<title>1592837073488</title>\n",
       "<polygon fill=\"none\" stroke=\"black\" points=\"1.5,-110.5 1.5,-146.5 198,-146.5 198,-110.5 1.5,-110.5\"/>\n",
       "<text text-anchor=\"middle\" x=\"16.25\" y=\"-123.2\" font-family=\"Times New Roman,serif\" font-size=\"14.00\">x1</text>\n",
       "<polyline fill=\"none\" stroke=\"black\" points=\"31,-110.75 31,-146.5\"/>\n",
       "<text text-anchor=\"middle\" x=\"71.25\" y=\"-123.2\" font-family=\"Times New Roman,serif\" font-size=\"14.00\">data 2.0000</text>\n",
       "<polyline fill=\"none\" stroke=\"black\" points=\"111.5,-110.75 111.5,-146.5\"/>\n",
       "<text text-anchor=\"middle\" x=\"154.75\" y=\"-123.2\" font-family=\"Times New Roman,serif\" font-size=\"14.00\">grad &#45;1.5000</text>\n",
       "</g>\n",
       "<!-- 1592837073488&#45;&gt;1592837396944* -->\n",
       "<g id=\"edge14\" class=\"edge\">\n",
       "<title>1592837073488&#45;&gt;1592837396944*</title>\n",
       "<path fill=\"none\" stroke=\"black\" d=\"M198.43,-128.5C207.33,-128.5 215.94,-128.5 223.79,-128.5\"/>\n",
       "<polygon fill=\"black\" stroke=\"black\" points=\"223.53,-132 233.53,-128.5 223.53,-125 223.53,-132\"/>\n",
       "</g>\n",
       "<!-- 1592837068496 -->\n",
       "<g id=\"node9\" class=\"node\">\n",
       "<title>1592837068496</title>\n",
       "<polygon fill=\"none\" stroke=\"black\" points=\"671.25,-82.5 671.25,-118.5 943.5,-118.5 943.5,-82.5 671.25,-82.5\"/>\n",
       "<text text-anchor=\"middle\" x=\"723.88\" y=\"-95.2\" font-family=\"Times New Roman,serif\" font-size=\"14.00\">x1*w1 + x2*w2</text>\n",
       "<polyline fill=\"none\" stroke=\"black\" points=\"776.5,-82.75 776.5,-118.5\"/>\n",
       "<text text-anchor=\"middle\" x=\"819\" y=\"-95.2\" font-family=\"Times New Roman,serif\" font-size=\"14.00\">data &#45;6.0000</text>\n",
       "<polyline fill=\"none\" stroke=\"black\" points=\"861.5,-82.75 861.5,-118.5\"/>\n",
       "<text text-anchor=\"middle\" x=\"902.5\" y=\"-95.2\" font-family=\"Times New Roman,serif\" font-size=\"14.00\">grad 0.5000</text>\n",
       "</g>\n",
       "<!-- 1592837068496&#45;&gt;1592837074000+ -->\n",
       "<g id=\"edge11\" class=\"edge\">\n",
       "<title>1592837068496&#45;&gt;1592837074000+</title>\n",
       "<path fill=\"none\" stroke=\"black\" d=\"M943.4,-118.99C952.34,-120.22 960.81,-121.38 968.46,-122.43\"/>\n",
       "<polygon fill=\"black\" stroke=\"black\" points=\"967.87,-125.88 978.25,-123.77 968.82,-118.94 967.87,-125.88\"/>\n",
       "</g>\n",
       "<!-- 1592837068496+&#45;&gt;1592837068496 -->\n",
       "<g id=\"edge4\" class=\"edge\">\n",
       "<title>1592837068496+&#45;&gt;1592837068496</title>\n",
       "<path fill=\"none\" stroke=\"black\" d=\"M635.43,-100.5C642.57,-100.5 650.85,-100.5 659.84,-100.5\"/>\n",
       "<polygon fill=\"black\" stroke=\"black\" points=\"659.6,-104 669.6,-100.5 659.6,-97 659.6,-104\"/>\n",
       "</g>\n",
       "<!-- 1592837062928 -->\n",
       "<g id=\"node11\" class=\"node\">\n",
       "<title>1592837062928</title>\n",
       "<polygon fill=\"none\" stroke=\"black\" points=\"2.25,-55.5 2.25,-91.5 197.25,-91.5 197.25,-55.5 2.25,-55.5\"/>\n",
       "<text text-anchor=\"middle\" x=\"18.5\" y=\"-68.2\" font-family=\"Times New Roman,serif\" font-size=\"14.00\">w2</text>\n",
       "<polyline fill=\"none\" stroke=\"black\" points=\"34.75,-55.75 34.75,-91.5\"/>\n",
       "<text text-anchor=\"middle\" x=\"75\" y=\"-68.2\" font-family=\"Times New Roman,serif\" font-size=\"14.00\">data 1.0000</text>\n",
       "<polyline fill=\"none\" stroke=\"black\" points=\"115.25,-55.75 115.25,-91.5\"/>\n",
       "<text text-anchor=\"middle\" x=\"156.25\" y=\"-68.2\" font-family=\"Times New Roman,serif\" font-size=\"14.00\">grad 0.0000</text>\n",
       "</g>\n",
       "<!-- 1592837062928&#45;&gt;1592837073936* -->\n",
       "<g id=\"edge8\" class=\"edge\">\n",
       "<title>1592837062928&#45;&gt;1592837073936*</title>\n",
       "<path fill=\"none\" stroke=\"black\" d=\"M197.51,-73.5C206.8,-73.5 215.79,-73.5 223.94,-73.5\"/>\n",
       "<polygon fill=\"black\" stroke=\"black\" points=\"223.72,-77 233.72,-73.5 223.72,-70 223.72,-77\"/>\n",
       "</g>\n",
       "<!-- 1592837072720 -->\n",
       "<g id=\"node12\" class=\"node\">\n",
       "<title>1592837072720</title>\n",
       "<polygon fill=\"none\" stroke=\"black\" points=\"714.38,-137.5 714.38,-173.5 900.38,-173.5 900.38,-137.5 714.38,-137.5\"/>\n",
       "<text text-anchor=\"middle\" x=\"726.12\" y=\"-150.2\" font-family=\"Times New Roman,serif\" font-size=\"14.00\">b</text>\n",
       "<polyline fill=\"none\" stroke=\"black\" points=\"737.88,-137.75 737.88,-173.5\"/>\n",
       "<text text-anchor=\"middle\" x=\"778.12\" y=\"-150.2\" font-family=\"Times New Roman,serif\" font-size=\"14.00\">data 6.8814</text>\n",
       "<polyline fill=\"none\" stroke=\"black\" points=\"818.38,-137.75 818.38,-173.5\"/>\n",
       "<text text-anchor=\"middle\" x=\"859.38\" y=\"-150.2\" font-family=\"Times New Roman,serif\" font-size=\"14.00\">grad 0.5000</text>\n",
       "</g>\n",
       "<!-- 1592837072720&#45;&gt;1592837074000+ -->\n",
       "<g id=\"edge13\" class=\"edge\">\n",
       "<title>1592837072720&#45;&gt;1592837074000+</title>\n",
       "<path fill=\"none\" stroke=\"black\" d=\"M900.59,-142.4C924.65,-138.98 949.22,-135.49 968.53,-132.75\"/>\n",
       "<polygon fill=\"black\" stroke=\"black\" points=\"968.92,-136.23 978.32,-131.36 967.93,-129.3 968.92,-136.23\"/>\n",
       "</g>\n",
       "<!-- 1592837073872 -->\n",
       "<g id=\"node13\" class=\"node\">\n",
       "<title>1592837073872</title>\n",
       "<polygon fill=\"none\" stroke=\"black\" points=\"3.75,-0.5 3.75,-36.5 195.75,-36.5 195.75,-0.5 3.75,-0.5\"/>\n",
       "<text text-anchor=\"middle\" x=\"18.5\" y=\"-13.2\" font-family=\"Times New Roman,serif\" font-size=\"14.00\">x2</text>\n",
       "<polyline fill=\"none\" stroke=\"black\" points=\"33.25,-0.75 33.25,-36.5\"/>\n",
       "<text text-anchor=\"middle\" x=\"73.5\" y=\"-13.2\" font-family=\"Times New Roman,serif\" font-size=\"14.00\">data 0.0000</text>\n",
       "<polyline fill=\"none\" stroke=\"black\" points=\"113.75,-0.75 113.75,-36.5\"/>\n",
       "<text text-anchor=\"middle\" x=\"154.75\" y=\"-13.2\" font-family=\"Times New Roman,serif\" font-size=\"14.00\">grad 0.5000</text>\n",
       "</g>\n",
       "<!-- 1592837073872&#45;&gt;1592837073936* -->\n",
       "<g id=\"edge9\" class=\"edge\">\n",
       "<title>1592837073872&#45;&gt;1592837073936*</title>\n",
       "<path fill=\"none\" stroke=\"black\" d=\"M170.45,-36.99C180.27,-39.97 190.19,-43.17 199.5,-46.5 209.46,-50.06 220.09,-54.46 229.68,-58.67\"/>\n",
       "<polygon fill=\"black\" stroke=\"black\" points=\"228.04,-61.77 238.6,-62.66 230.9,-55.38 228.04,-61.77\"/>\n",
       "</g>\n",
       "<!-- 1592837396944 -->\n",
       "<g id=\"node14\" class=\"node\">\n",
       "<title>1592837396944</title>\n",
       "<polygon fill=\"none\" stroke=\"black\" points=\"325.5,-110.5 325.5,-146.5 545.25,-146.5 545.25,-110.5 325.5,-110.5\"/>\n",
       "<text text-anchor=\"middle\" x=\"351.88\" y=\"-123.2\" font-family=\"Times New Roman,serif\" font-size=\"14.00\">x1*w1</text>\n",
       "<polyline fill=\"none\" stroke=\"black\" points=\"378.25,-110.75 378.25,-146.5\"/>\n",
       "<text text-anchor=\"middle\" x=\"420.75\" y=\"-123.2\" font-family=\"Times New Roman,serif\" font-size=\"14.00\">data &#45;6.0000</text>\n",
       "<polyline fill=\"none\" stroke=\"black\" points=\"463.25,-110.75 463.25,-146.5\"/>\n",
       "<text text-anchor=\"middle\" x=\"504.25\" y=\"-123.2\" font-family=\"Times New Roman,serif\" font-size=\"14.00\">grad 0.5000</text>\n",
       "</g>\n",
       "<!-- 1592837396944&#45;&gt;1592837068496+ -->\n",
       "<g id=\"edge7\" class=\"edge\">\n",
       "<title>1592837396944&#45;&gt;1592837068496+</title>\n",
       "<path fill=\"none\" stroke=\"black\" d=\"M545.56,-110.61C554.32,-109.17 562.71,-107.8 570.34,-106.55\"/>\n",
       "<polygon fill=\"black\" stroke=\"black\" points=\"570.83,-110.02 580.13,-104.94 569.69,-103.11 570.83,-110.02\"/>\n",
       "</g>\n",
       "<!-- 1592837396944*&#45;&gt;1592837396944 -->\n",
       "<g id=\"edge5\" class=\"edge\">\n",
       "<title>1592837396944*&#45;&gt;1592837396944</title>\n",
       "<path fill=\"none\" stroke=\"black\" d=\"M289.82,-128.5C296.93,-128.5 305.11,-128.5 313.89,-128.5\"/>\n",
       "<polygon fill=\"black\" stroke=\"black\" points=\"313.78,-132 323.78,-128.5 313.78,-125 313.78,-132\"/>\n",
       "</g>\n",
       "</g>\n",
       "</svg>\n"
      ],
      "text/plain": [
       "<graphviz.graphs.Digraph at 0x172dc84d110>"
      ]
     },
     "execution_count": 77,
     "metadata": {},
     "output_type": "execute_result"
    }
   ],
   "source": [
    "draw_dot(o)"
   ]
  },
  {
   "cell_type": "code",
   "execution_count": 76,
   "metadata": {},
   "outputs": [],
   "source": [
    "o.backward()"
   ]
  },
  {
   "cell_type": "code",
   "execution_count": 71,
   "metadata": {},
   "outputs": [
    {
     "data": {
      "text/plain": [
       "[Value(data = 6.881373587019543),\n",
       " Value(data = 1.0),\n",
       " Value(data = 0.0),\n",
       " Value(data = 0.0),\n",
       " Value(data = 2.0),\n",
       " Value(data = -3.0),\n",
       " Value(data = -6.0),\n",
       " Value(data = -6.0),\n",
       " Value(data = 0.8813735870195432),\n",
       " Value(data = 0.7071067811865476)]"
      ]
     },
     "execution_count": 71,
     "metadata": {},
     "output_type": "execute_result"
    }
   ],
   "source": [
    "o.grad = 1.0\n",
    "\n",
    "topo = []\n",
    "visited = set()\n",
    "\n",
    "# topological sorting : kindda like DFS sorting -> go to the bottom of the leaf, then change brance\n",
    "# its used so we can automaticly search for the backward propagation\n",
    "def build_topo(v):\n",
    "    if v not in visited: \n",
    "        visited.add(v)\n",
    "        for child in v._prev: \n",
    "            build_topo(child)\n",
    "        topo.append(v)\n",
    "\n",
    "build_topo(o)\n",
    "\n",
    "for node in reversed(topo):\n",
    "    node._backward()\n",
    "\n",
    "topo"
   ]
  },
  {
   "cell_type": "code",
   "execution_count": 56,
   "metadata": {},
   "outputs": [],
   "source": [
    "o.grad = 1.0"
   ]
  },
  {
   "cell_type": "code",
   "execution_count": 57,
   "metadata": {},
   "outputs": [],
   "source": [
    "o._backward()"
   ]
  },
  {
   "cell_type": "code",
   "execution_count": 59,
   "metadata": {},
   "outputs": [],
   "source": [
    "n._backward()"
   ]
  },
  {
   "cell_type": "code",
   "execution_count": 61,
   "metadata": {},
   "outputs": [],
   "source": [
    "b._backward()"
   ]
  },
  {
   "cell_type": "code",
   "execution_count": 63,
   "metadata": {},
   "outputs": [],
   "source": [
    "x1w1x2w2._backward()"
   ]
  },
  {
   "cell_type": "code",
   "execution_count": 65,
   "metadata": {},
   "outputs": [],
   "source": [
    "x2w2._backward()"
   ]
  },
  {
   "cell_type": "code",
   "execution_count": 66,
   "metadata": {},
   "outputs": [],
   "source": [
    "x1w1._backward()"
   ]
  },
  {
   "cell_type": "code",
   "execution_count": 45,
   "metadata": {},
   "outputs": [],
   "source": [
    "x1.grad = w1.data * x1w1.grad\n",
    "w1.grad = x1.data * x1w1.grad"
   ]
  },
  {
   "cell_type": "code",
   "execution_count": 43,
   "metadata": {},
   "outputs": [],
   "source": [
    "x2.grad = w2.data * x2w2.grad\n",
    "w2.grad = x2.data * x2w2.grad"
   ]
  },
  {
   "cell_type": "code",
   "execution_count": 41,
   "metadata": {},
   "outputs": [],
   "source": [
    "x1w1.grad = 0.5\n",
    "x2w2.grad = 0.5"
   ]
  },
  {
   "cell_type": "code",
   "execution_count": 39,
   "metadata": {},
   "outputs": [],
   "source": [
    "# grad on x1w1x2w2 + b\n",
    "b.grad = 0.5\n",
    "x1w1x2w2.grad = 0.5"
   ]
  },
  {
   "cell_type": "code",
   "execution_count": null,
   "metadata": {},
   "outputs": [],
   "source": [
    "o.grad = 1.0"
   ]
  },
  {
   "cell_type": "code",
   "execution_count": 37,
   "metadata": {},
   "outputs": [],
   "source": [
    "n.grad = 0.5"
   ]
  },
  {
   "cell_type": "code",
   "execution_count": 36,
   "metadata": {},
   "outputs": [
    {
     "data": {
      "text/plain": [
       "0.4999999999999999"
      ]
     },
     "execution_count": 36,
     "metadata": {},
     "output_type": "execute_result"
    }
   ],
   "source": [
    "1-o.data**2"
   ]
  },
  {
   "cell_type": "code",
   "execution_count": null,
   "metadata": {},
   "outputs": [],
   "source": [
    "# o = tanh(n)\n",
    "# do/dn = 1-tanh(n)**2\n"
   ]
  },
  {
   "cell_type": "code",
   "execution_count": 79,
   "metadata": {},
   "outputs": [
    {
     "data": {
      "image/svg+xml": [
       "<?xml version=\"1.0\" encoding=\"UTF-8\" standalone=\"no\"?>\n",
       "<!DOCTYPE svg PUBLIC \"-//W3C//DTD SVG 1.1//EN\"\n",
       " \"http://www.w3.org/Graphics/SVG/1.1/DTD/svg11.dtd\">\n",
       "<!-- Generated by graphviz version 9.0.0 (20230911.1827)\n",
       " -->\n",
       "<!-- Pages: 1 -->\n",
       "<svg width=\"505pt\" height=\"45pt\"\n",
       " viewBox=\"0.00 0.00 504.50 45.00\" xmlns=\"http://www.w3.org/2000/svg\" xmlns:xlink=\"http://www.w3.org/1999/xlink\">\n",
       "<g id=\"graph0\" class=\"graph\" transform=\"scale(1 1) rotate(0) translate(4 41)\">\n",
       "<polygon fill=\"white\" stroke=\"none\" points=\"-4,4 -4,-41 500.5,-41 500.5,4 -4,4\"/>\n",
       "<!-- 1592837072784 -->\n",
       "<g id=\"node1\" class=\"node\">\n",
       "<title>1592837072784</title>\n",
       "<polygon fill=\"none\" stroke=\"black\" points=\"310.5,-0.5 310.5,-36.5 496.5,-36.5 496.5,-0.5 310.5,-0.5\"/>\n",
       "<text text-anchor=\"middle\" x=\"322.25\" y=\"-13.2\" font-family=\"Times New Roman,serif\" font-size=\"14.00\">b</text>\n",
       "<polyline fill=\"none\" stroke=\"black\" points=\"334,-0.75 334,-36.5\"/>\n",
       "<text text-anchor=\"middle\" x=\"374.25\" y=\"-13.2\" font-family=\"Times New Roman,serif\" font-size=\"14.00\">data 6.0000</text>\n",
       "<polyline fill=\"none\" stroke=\"black\" points=\"414.5,-0.75 414.5,-36.5\"/>\n",
       "<text text-anchor=\"middle\" x=\"455.5\" y=\"-13.2\" font-family=\"Times New Roman,serif\" font-size=\"14.00\">grad 1.0000</text>\n",
       "</g>\n",
       "<!-- 1592837072784+ -->\n",
       "<g id=\"node2\" class=\"node\">\n",
       "<title>1592837072784+</title>\n",
       "<ellipse fill=\"none\" stroke=\"black\" cx=\"247.5\" cy=\"-18.5\" rx=\"27\" ry=\"18\"/>\n",
       "<text text-anchor=\"middle\" x=\"247.5\" y=\"-13.07\" font-family=\"Times New Roman,serif\" font-size=\"14.00\">+</text>\n",
       "</g>\n",
       "<!-- 1592837072784+&#45;&gt;1592837072784 -->\n",
       "<g id=\"edge1\" class=\"edge\">\n",
       "<title>1592837072784+&#45;&gt;1592837072784</title>\n",
       "<path fill=\"none\" stroke=\"black\" d=\"M274.97,-18.5C282.11,-18.5 290.28,-18.5 298.96,-18.5\"/>\n",
       "<polygon fill=\"black\" stroke=\"black\" points=\"298.69,-22 308.69,-18.5 298.69,-15 298.69,-22\"/>\n",
       "</g>\n",
       "<!-- 1592837223952 -->\n",
       "<g id=\"node3\" class=\"node\">\n",
       "<title>1592837223952</title>\n",
       "<polygon fill=\"none\" stroke=\"black\" points=\"0,-0.5 0,-36.5 184.5,-36.5 184.5,-0.5 0,-0.5\"/>\n",
       "<text text-anchor=\"middle\" x=\"11\" y=\"-13.2\" font-family=\"Times New Roman,serif\" font-size=\"14.00\">a</text>\n",
       "<polyline fill=\"none\" stroke=\"black\" points=\"22,-0.75 22,-36.5\"/>\n",
       "<text text-anchor=\"middle\" x=\"62.25\" y=\"-13.2\" font-family=\"Times New Roman,serif\" font-size=\"14.00\">data 3.0000</text>\n",
       "<polyline fill=\"none\" stroke=\"black\" points=\"102.5,-0.75 102.5,-36.5\"/>\n",
       "<text text-anchor=\"middle\" x=\"143.5\" y=\"-13.2\" font-family=\"Times New Roman,serif\" font-size=\"14.00\">grad 2.0000</text>\n",
       "</g>\n",
       "<!-- 1592837223952&#45;&gt;1592837072784+ -->\n",
       "<g id=\"edge2\" class=\"edge\">\n",
       "<title>1592837223952&#45;&gt;1592837072784+</title>\n",
       "<path fill=\"none\" stroke=\"black\" d=\"M184.61,-18.5C193.01,-18.5 201.16,-18.5 208.64,-18.5\"/>\n",
       "<polygon fill=\"black\" stroke=\"black\" points=\"208.64,-22 218.64,-18.5 208.64,-15 208.64,-22\"/>\n",
       "</g>\n",
       "</g>\n",
       "</svg>\n"
      ],
      "text/plain": [
       "<graphviz.graphs.Digraph at 0x172dc836210>"
      ]
     },
     "execution_count": 79,
     "metadata": {},
     "output_type": "execute_result"
    }
   ],
   "source": [
    "a = Value(3.0, label=\"a\")\n",
    "b = a + a; b.label=\"b\"\n",
    "b.backward()\n",
    "draw_dot(b)"
   ]
  },
  {
   "cell_type": "code",
   "execution_count": 80,
   "metadata": {},
   "outputs": [
    {
     "data": {
      "image/svg+xml": [
       "<?xml version=\"1.0\" encoding=\"UTF-8\" standalone=\"no\"?>\n",
       "<!DOCTYPE svg PUBLIC \"-//W3C//DTD SVG 1.1//EN\"\n",
       " \"http://www.w3.org/Graphics/SVG/1.1/DTD/svg11.dtd\">\n",
       "<!-- Generated by graphviz version 9.0.0 (20230911.1827)\n",
       " -->\n",
       "<!-- Pages: 1 -->\n",
       "<svg width=\"832pt\" height=\"100pt\"\n",
       " viewBox=\"0.00 0.00 831.50 100.00\" xmlns=\"http://www.w3.org/2000/svg\" xmlns:xlink=\"http://www.w3.org/1999/xlink\">\n",
       "<g id=\"graph0\" class=\"graph\" transform=\"scale(1 1) rotate(0) translate(4 96)\">\n",
       "<polygon fill=\"white\" stroke=\"none\" points=\"-4,4 -4,-96 827.5,-96 827.5,4 -4,4\"/>\n",
       "<!-- 1592837487632 -->\n",
       "<g id=\"node1\" class=\"node\">\n",
       "<title>1592837487632</title>\n",
       "<polygon fill=\"none\" stroke=\"black\" points=\"320.25,-55.5 320.25,-91.5 509.25,-91.5 509.25,-55.5 320.25,-55.5\"/>\n",
       "<text text-anchor=\"middle\" x=\"331.25\" y=\"-68.2\" font-family=\"Times New Roman,serif\" font-size=\"14.00\">e</text>\n",
       "<polyline fill=\"none\" stroke=\"black\" points=\"342.25,-55.75 342.25,-91.5\"/>\n",
       "<text text-anchor=\"middle\" x=\"382.5\" y=\"-68.2\" font-family=\"Times New Roman,serif\" font-size=\"14.00\">data 1.0000</text>\n",
       "<polyline fill=\"none\" stroke=\"black\" points=\"422.75,-55.75 422.75,-91.5\"/>\n",
       "<text text-anchor=\"middle\" x=\"466\" y=\"-68.2\" font-family=\"Times New Roman,serif\" font-size=\"14.00\">grad &#45;6.0000</text>\n",
       "</g>\n",
       "<!-- 1592837000784* -->\n",
       "<g id=\"node4\" class=\"node\">\n",
       "<title>1592837000784*</title>\n",
       "<ellipse fill=\"none\" stroke=\"black\" cx=\"573\" cy=\"-45.5\" rx=\"27\" ry=\"18\"/>\n",
       "<text text-anchor=\"middle\" x=\"573\" y=\"-40.08\" font-family=\"Times New Roman,serif\" font-size=\"14.00\">*</text>\n",
       "</g>\n",
       "<!-- 1592837487632&#45;&gt;1592837000784* -->\n",
       "<g id=\"edge5\" class=\"edge\">\n",
       "<title>1592837487632&#45;&gt;1592837000784*</title>\n",
       "<path fill=\"none\" stroke=\"black\" d=\"M509.35,-56.73C518.52,-55.08 527.39,-53.49 535.44,-52.05\"/>\n",
       "<polygon fill=\"black\" stroke=\"black\" points=\"535.85,-55.53 545.08,-50.32 534.62,-48.64 535.85,-55.53\"/>\n",
       "</g>\n",
       "<!-- 1592837487632+ -->\n",
       "<g id=\"node2\" class=\"node\">\n",
       "<title>1592837487632+</title>\n",
       "<ellipse fill=\"none\" stroke=\"black\" cx=\"256.5\" cy=\"-73.5\" rx=\"27\" ry=\"18\"/>\n",
       "<text text-anchor=\"middle\" x=\"256.5\" y=\"-68.08\" font-family=\"Times New Roman,serif\" font-size=\"14.00\">+</text>\n",
       "</g>\n",
       "<!-- 1592837487632+&#45;&gt;1592837487632 -->\n",
       "<g id=\"edge1\" class=\"edge\">\n",
       "<title>1592837487632+&#45;&gt;1592837487632</title>\n",
       "<path fill=\"none\" stroke=\"black\" d=\"M283.65,-73.5C291.06,-73.5 299.62,-73.5 308.73,-73.5\"/>\n",
       "<polygon fill=\"black\" stroke=\"black\" points=\"308.56,-77 318.56,-73.5 308.56,-70 308.56,-77\"/>\n",
       "</g>\n",
       "<!-- 1592837000784 -->\n",
       "<g id=\"node3\" class=\"node\">\n",
       "<title>1592837000784</title>\n",
       "<polygon fill=\"none\" stroke=\"black\" points=\"636,-27.5 636,-63.5 823.5,-63.5 823.5,-27.5 636,-27.5\"/>\n",
       "<text text-anchor=\"middle\" x=\"646.25\" y=\"-40.2\" font-family=\"Times New Roman,serif\" font-size=\"14.00\">f</text>\n",
       "<polyline fill=\"none\" stroke=\"black\" points=\"656.5,-27.75 656.5,-63.5\"/>\n",
       "<text text-anchor=\"middle\" x=\"699\" y=\"-40.2\" font-family=\"Times New Roman,serif\" font-size=\"14.00\">data &#45;6.0000</text>\n",
       "<polyline fill=\"none\" stroke=\"black\" points=\"741.5,-27.75 741.5,-63.5\"/>\n",
       "<text text-anchor=\"middle\" x=\"782.5\" y=\"-40.2\" font-family=\"Times New Roman,serif\" font-size=\"14.00\">grad 1.0000</text>\n",
       "</g>\n",
       "<!-- 1592837000784*&#45;&gt;1592837000784 -->\n",
       "<g id=\"edge2\" class=\"edge\">\n",
       "<title>1592837000784*&#45;&gt;1592837000784</title>\n",
       "<path fill=\"none\" stroke=\"black\" d=\"M600.25,-45.5C607.41,-45.5 615.62,-45.5 624.35,-45.5\"/>\n",
       "<polygon fill=\"black\" stroke=\"black\" points=\"624.14,-49 634.14,-45.5 624.14,-42 624.14,-49\"/>\n",
       "</g>\n",
       "<!-- 1592834864784 -->\n",
       "<g id=\"node5\" class=\"node\">\n",
       "<title>1592834864784</title>\n",
       "<polygon fill=\"none\" stroke=\"black\" points=\"319.5,-0.5 319.5,-36.5 510,-36.5 510,-0.5 319.5,-0.5\"/>\n",
       "<text text-anchor=\"middle\" x=\"331.25\" y=\"-13.2\" font-family=\"Times New Roman,serif\" font-size=\"14.00\">d</text>\n",
       "<polyline fill=\"none\" stroke=\"black\" points=\"343,-0.75 343,-36.5\"/>\n",
       "<text text-anchor=\"middle\" x=\"385.5\" y=\"-13.2\" font-family=\"Times New Roman,serif\" font-size=\"14.00\">data &#45;6.0000</text>\n",
       "<polyline fill=\"none\" stroke=\"black\" points=\"428,-0.75 428,-36.5\"/>\n",
       "<text text-anchor=\"middle\" x=\"469\" y=\"-13.2\" font-family=\"Times New Roman,serif\" font-size=\"14.00\">grad 1.0000</text>\n",
       "</g>\n",
       "<!-- 1592834864784&#45;&gt;1592837000784* -->\n",
       "<g id=\"edge4\" class=\"edge\">\n",
       "<title>1592834864784&#45;&gt;1592837000784*</title>\n",
       "<path fill=\"none\" stroke=\"black\" d=\"M510.25,-34.83C519.04,-36.35 527.54,-37.82 535.28,-39.15\"/>\n",
       "<polygon fill=\"black\" stroke=\"black\" points=\"534.44,-42.56 544.89,-40.81 535.63,-35.66 534.44,-42.56\"/>\n",
       "</g>\n",
       "<!-- 1592834864784* -->\n",
       "<g id=\"node6\" class=\"node\">\n",
       "<title>1592834864784*</title>\n",
       "<ellipse fill=\"none\" stroke=\"black\" cx=\"256.5\" cy=\"-18.5\" rx=\"27\" ry=\"18\"/>\n",
       "<text text-anchor=\"middle\" x=\"256.5\" y=\"-13.07\" font-family=\"Times New Roman,serif\" font-size=\"14.00\">*</text>\n",
       "</g>\n",
       "<!-- 1592834864784*&#45;&gt;1592834864784 -->\n",
       "<g id=\"edge3\" class=\"edge\">\n",
       "<title>1592834864784*&#45;&gt;1592834864784</title>\n",
       "<path fill=\"none\" stroke=\"black\" d=\"M283.65,-18.5C290.8,-18.5 299.01,-18.5 307.75,-18.5\"/>\n",
       "<polygon fill=\"black\" stroke=\"black\" points=\"307.56,-22 317.56,-18.5 307.56,-15 307.56,-22\"/>\n",
       "</g>\n",
       "<!-- 1592761250448 -->\n",
       "<g id=\"node7\" class=\"node\">\n",
       "<title>1592761250448</title>\n",
       "<polygon fill=\"none\" stroke=\"black\" points=\"0,-55.5 0,-91.5 193.5,-91.5 193.5,-55.5 0,-55.5\"/>\n",
       "<text text-anchor=\"middle\" x=\"11\" y=\"-68.2\" font-family=\"Times New Roman,serif\" font-size=\"14.00\">a</text>\n",
       "<polyline fill=\"none\" stroke=\"black\" points=\"22,-55.75 22,-91.5\"/>\n",
       "<text text-anchor=\"middle\" x=\"64.5\" y=\"-68.2\" font-family=\"Times New Roman,serif\" font-size=\"14.00\">data &#45;2.0000</text>\n",
       "<polyline fill=\"none\" stroke=\"black\" points=\"107,-55.75 107,-91.5\"/>\n",
       "<text text-anchor=\"middle\" x=\"150.25\" y=\"-68.2\" font-family=\"Times New Roman,serif\" font-size=\"14.00\">grad &#45;3.0000</text>\n",
       "</g>\n",
       "<!-- 1592761250448&#45;&gt;1592837487632+ -->\n",
       "<g id=\"edge8\" class=\"edge\">\n",
       "<title>1592761250448&#45;&gt;1592837487632+</title>\n",
       "<path fill=\"none\" stroke=\"black\" d=\"M193.61,-73.5C202.06,-73.5 210.23,-73.5 217.73,-73.5\"/>\n",
       "<polygon fill=\"black\" stroke=\"black\" points=\"217.73,-77 227.73,-73.5 217.73,-70 217.73,-77\"/>\n",
       "</g>\n",
       "<!-- 1592761250448&#45;&gt;1592834864784* -->\n",
       "<g id=\"edge9\" class=\"edge\">\n",
       "<title>1592761250448&#45;&gt;1592834864784*</title>\n",
       "<path fill=\"none\" stroke=\"black\" d=\"M167.95,-55.01C176.62,-52.35 185.31,-49.49 193.5,-46.5 203.5,-42.86 214.14,-38.31 223.73,-33.95\"/>\n",
       "<polygon fill=\"black\" stroke=\"black\" points=\"225.06,-37.19 232.65,-29.79 222.11,-30.84 225.06,-37.19\"/>\n",
       "</g>\n",
       "<!-- 1592837219664 -->\n",
       "<g id=\"node8\" class=\"node\">\n",
       "<title>1592837219664</title>\n",
       "<polygon fill=\"none\" stroke=\"black\" points=\"1.5,-0.5 1.5,-36.5 192,-36.5 192,-0.5 1.5,-0.5\"/>\n",
       "<text text-anchor=\"middle\" x=\"13.25\" y=\"-13.2\" font-family=\"Times New Roman,serif\" font-size=\"14.00\">b</text>\n",
       "<polyline fill=\"none\" stroke=\"black\" points=\"25,-0.75 25,-36.5\"/>\n",
       "<text text-anchor=\"middle\" x=\"65.25\" y=\"-13.2\" font-family=\"Times New Roman,serif\" font-size=\"14.00\">data 3.0000</text>\n",
       "<polyline fill=\"none\" stroke=\"black\" points=\"105.5,-0.75 105.5,-36.5\"/>\n",
       "<text text-anchor=\"middle\" x=\"148.75\" y=\"-13.2\" font-family=\"Times New Roman,serif\" font-size=\"14.00\">grad &#45;8.0000</text>\n",
       "</g>\n",
       "<!-- 1592837219664&#45;&gt;1592837487632+ -->\n",
       "<g id=\"edge6\" class=\"edge\">\n",
       "<title>1592837219664&#45;&gt;1592837487632+</title>\n",
       "<path fill=\"none\" stroke=\"black\" d=\"M164.8,-36.94C174.5,-39.94 184.3,-43.17 193.5,-46.5 203.36,-50.07 213.9,-54.44 223.43,-58.62\"/>\n",
       "<polygon fill=\"black\" stroke=\"black\" points=\"221.74,-61.69 232.3,-62.58 224.59,-55.3 221.74,-61.69\"/>\n",
       "</g>\n",
       "<!-- 1592837219664&#45;&gt;1592834864784* -->\n",
       "<g id=\"edge7\" class=\"edge\">\n",
       "<title>1592837219664&#45;&gt;1592834864784*</title>\n",
       "<path fill=\"none\" stroke=\"black\" d=\"M192.25,-18.5C201.22,-18.5 209.92,-18.5 217.84,-18.5\"/>\n",
       "<polygon fill=\"black\" stroke=\"black\" points=\"217.7,-22 227.7,-18.5 217.7,-15 217.7,-22\"/>\n",
       "</g>\n",
       "</g>\n",
       "</svg>\n"
      ],
      "text/plain": [
       "<graphviz.graphs.Digraph at 0x172dc65b1d0>"
      ]
     },
     "execution_count": 80,
     "metadata": {},
     "output_type": "execute_result"
    }
   ],
   "source": [
    "a = Value(-2.0, label='a')\n",
    "b = Value(3.0, label='b')\n",
    "d = a * b    ; d.label = 'd'\n",
    "e = a + b    ; e.label = 'e'\n",
    "f = d * e    ; f.label = 'f'\n",
    "\n",
    "f.backward()\n",
    "\n",
    "draw_dot(f)"
   ]
  },
  {
   "cell_type": "code",
   "execution_count": null,
   "metadata": {},
   "outputs": [],
   "source": []
  }
 ],
 "metadata": {
  "kernelspec": {
   "display_name": "Python 3",
   "language": "python",
   "name": "python3"
  },
  "language_info": {
   "codemirror_mode": {
    "name": "ipython",
    "version": 3
   },
   "file_extension": ".py",
   "mimetype": "text/x-python",
   "name": "python",
   "nbconvert_exporter": "python",
   "pygments_lexer": "ipython3",
   "version": "3.11.0"
  }
 },
 "nbformat": 4,
 "nbformat_minor": 2
}
